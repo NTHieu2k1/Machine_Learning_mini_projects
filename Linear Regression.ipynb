{
 "cells": [
  {
   "cell_type": "markdown",
   "id": "b3b22dc3",
   "metadata": {},
   "source": [
    "# Linear Regression ML model (using sklearn library and manually build)"
   ]
  },
  {
   "cell_type": "markdown",
   "id": "8992e6a4",
   "metadata": {},
   "source": [
    "1. Using sklearn library"
   ]
  },
  {
   "cell_type": "code",
   "execution_count": 1,
   "id": "9e1c2430",
   "metadata": {},
   "outputs": [],
   "source": [
    "# import libraries\n",
    "import numpy as np\n",
    "import pandas as pd\n",
    "import sklearn"
   ]
  },
  {
   "cell_type": "code",
   "execution_count": 2,
   "id": "edc00dd5",
   "metadata": {},
   "outputs": [
    {
     "data": {
      "text/html": [
       "<div>\n",
       "<style scoped>\n",
       "    .dataframe tbody tr th:only-of-type {\n",
       "        vertical-align: middle;\n",
       "    }\n",
       "\n",
       "    .dataframe tbody tr th {\n",
       "        vertical-align: top;\n",
       "    }\n",
       "\n",
       "    .dataframe thead th {\n",
       "        text-align: right;\n",
       "    }\n",
       "</style>\n",
       "<table border=\"1\" class=\"dataframe\">\n",
       "  <thead>\n",
       "    <tr style=\"text-align: right;\">\n",
       "      <th></th>\n",
       "      <th>MODELYEAR</th>\n",
       "      <th>MAKE</th>\n",
       "      <th>MODEL</th>\n",
       "      <th>VEHICLECLASS</th>\n",
       "      <th>ENGINESIZE</th>\n",
       "      <th>CYLINDERS</th>\n",
       "      <th>TRANSMISSION</th>\n",
       "      <th>FUELTYPE</th>\n",
       "      <th>FUELCONSUMPTION_CITY</th>\n",
       "      <th>FUELCONSUMPTION_HWY</th>\n",
       "      <th>FUELCONSUMPTION_COMB</th>\n",
       "      <th>FUELCONSUMPTION_COMB_MPG</th>\n",
       "      <th>CO2EMISSIONS</th>\n",
       "    </tr>\n",
       "  </thead>\n",
       "  <tbody>\n",
       "    <tr>\n",
       "      <th>0</th>\n",
       "      <td>2014</td>\n",
       "      <td>ACURA</td>\n",
       "      <td>ILX</td>\n",
       "      <td>COMPACT</td>\n",
       "      <td>2.0</td>\n",
       "      <td>4</td>\n",
       "      <td>AS5</td>\n",
       "      <td>Z</td>\n",
       "      <td>9.9</td>\n",
       "      <td>6.7</td>\n",
       "      <td>8.5</td>\n",
       "      <td>33</td>\n",
       "      <td>196</td>\n",
       "    </tr>\n",
       "    <tr>\n",
       "      <th>1</th>\n",
       "      <td>2014</td>\n",
       "      <td>ACURA</td>\n",
       "      <td>ILX</td>\n",
       "      <td>COMPACT</td>\n",
       "      <td>2.4</td>\n",
       "      <td>4</td>\n",
       "      <td>M6</td>\n",
       "      <td>Z</td>\n",
       "      <td>11.2</td>\n",
       "      <td>7.7</td>\n",
       "      <td>9.6</td>\n",
       "      <td>29</td>\n",
       "      <td>221</td>\n",
       "    </tr>\n",
       "    <tr>\n",
       "      <th>2</th>\n",
       "      <td>2014</td>\n",
       "      <td>ACURA</td>\n",
       "      <td>ILX HYBRID</td>\n",
       "      <td>COMPACT</td>\n",
       "      <td>1.5</td>\n",
       "      <td>4</td>\n",
       "      <td>AV7</td>\n",
       "      <td>Z</td>\n",
       "      <td>6.0</td>\n",
       "      <td>5.8</td>\n",
       "      <td>5.9</td>\n",
       "      <td>48</td>\n",
       "      <td>136</td>\n",
       "    </tr>\n",
       "    <tr>\n",
       "      <th>3</th>\n",
       "      <td>2014</td>\n",
       "      <td>ACURA</td>\n",
       "      <td>MDX 4WD</td>\n",
       "      <td>SUV - SMALL</td>\n",
       "      <td>3.5</td>\n",
       "      <td>6</td>\n",
       "      <td>AS6</td>\n",
       "      <td>Z</td>\n",
       "      <td>12.7</td>\n",
       "      <td>9.1</td>\n",
       "      <td>11.1</td>\n",
       "      <td>25</td>\n",
       "      <td>255</td>\n",
       "    </tr>\n",
       "    <tr>\n",
       "      <th>4</th>\n",
       "      <td>2014</td>\n",
       "      <td>ACURA</td>\n",
       "      <td>RDX AWD</td>\n",
       "      <td>SUV - SMALL</td>\n",
       "      <td>3.5</td>\n",
       "      <td>6</td>\n",
       "      <td>AS6</td>\n",
       "      <td>Z</td>\n",
       "      <td>12.1</td>\n",
       "      <td>8.7</td>\n",
       "      <td>10.6</td>\n",
       "      <td>27</td>\n",
       "      <td>244</td>\n",
       "    </tr>\n",
       "  </tbody>\n",
       "</table>\n",
       "</div>"
      ],
      "text/plain": [
       "   MODELYEAR   MAKE       MODEL VEHICLECLASS  ENGINESIZE  CYLINDERS  \\\n",
       "0       2014  ACURA         ILX      COMPACT         2.0          4   \n",
       "1       2014  ACURA         ILX      COMPACT         2.4          4   \n",
       "2       2014  ACURA  ILX HYBRID      COMPACT         1.5          4   \n",
       "3       2014  ACURA     MDX 4WD  SUV - SMALL         3.5          6   \n",
       "4       2014  ACURA     RDX AWD  SUV - SMALL         3.5          6   \n",
       "\n",
       "  TRANSMISSION FUELTYPE  FUELCONSUMPTION_CITY  FUELCONSUMPTION_HWY  \\\n",
       "0          AS5        Z                   9.9                  6.7   \n",
       "1           M6        Z                  11.2                  7.7   \n",
       "2          AV7        Z                   6.0                  5.8   \n",
       "3          AS6        Z                  12.7                  9.1   \n",
       "4          AS6        Z                  12.1                  8.7   \n",
       "\n",
       "   FUELCONSUMPTION_COMB  FUELCONSUMPTION_COMB_MPG  CO2EMISSIONS  \n",
       "0                   8.5                        33           196  \n",
       "1                   9.6                        29           221  \n",
       "2                   5.9                        48           136  \n",
       "3                  11.1                        25           255  \n",
       "4                  10.6                        27           244  "
      ]
     },
     "execution_count": 2,
     "metadata": {},
     "output_type": "execute_result"
    }
   ],
   "source": [
    "# Read data\n",
    "df = pd.read_csv('FuelConsumption.csv')\n",
    "df.head()"
   ]
  },
  {
   "cell_type": "code",
   "execution_count": 3,
   "id": "812c6cdb",
   "metadata": {},
   "outputs": [
    {
     "data": {
      "text/html": [
       "<div>\n",
       "<style scoped>\n",
       "    .dataframe tbody tr th:only-of-type {\n",
       "        vertical-align: middle;\n",
       "    }\n",
       "\n",
       "    .dataframe tbody tr th {\n",
       "        vertical-align: top;\n",
       "    }\n",
       "\n",
       "    .dataframe thead th {\n",
       "        text-align: right;\n",
       "    }\n",
       "</style>\n",
       "<table border=\"1\" class=\"dataframe\">\n",
       "  <thead>\n",
       "    <tr style=\"text-align: right;\">\n",
       "      <th></th>\n",
       "      <th>ENGINESIZE</th>\n",
       "      <th>CYLINDERS</th>\n",
       "      <th>FUELCONSUMPTION_CITY</th>\n",
       "      <th>FUELCONSUMPTION_HWY</th>\n",
       "      <th>FUELCONSUMPTION_COMB</th>\n",
       "      <th>CO2EMISSIONS</th>\n",
       "    </tr>\n",
       "  </thead>\n",
       "  <tbody>\n",
       "    <tr>\n",
       "      <th>0</th>\n",
       "      <td>2.0</td>\n",
       "      <td>4</td>\n",
       "      <td>9.9</td>\n",
       "      <td>6.7</td>\n",
       "      <td>8.5</td>\n",
       "      <td>196</td>\n",
       "    </tr>\n",
       "    <tr>\n",
       "      <th>1</th>\n",
       "      <td>2.4</td>\n",
       "      <td>4</td>\n",
       "      <td>11.2</td>\n",
       "      <td>7.7</td>\n",
       "      <td>9.6</td>\n",
       "      <td>221</td>\n",
       "    </tr>\n",
       "    <tr>\n",
       "      <th>2</th>\n",
       "      <td>1.5</td>\n",
       "      <td>4</td>\n",
       "      <td>6.0</td>\n",
       "      <td>5.8</td>\n",
       "      <td>5.9</td>\n",
       "      <td>136</td>\n",
       "    </tr>\n",
       "    <tr>\n",
       "      <th>3</th>\n",
       "      <td>3.5</td>\n",
       "      <td>6</td>\n",
       "      <td>12.7</td>\n",
       "      <td>9.1</td>\n",
       "      <td>11.1</td>\n",
       "      <td>255</td>\n",
       "    </tr>\n",
       "    <tr>\n",
       "      <th>4</th>\n",
       "      <td>3.5</td>\n",
       "      <td>6</td>\n",
       "      <td>12.1</td>\n",
       "      <td>8.7</td>\n",
       "      <td>10.6</td>\n",
       "      <td>244</td>\n",
       "    </tr>\n",
       "  </tbody>\n",
       "</table>\n",
       "</div>"
      ],
      "text/plain": [
       "   ENGINESIZE  CYLINDERS  FUELCONSUMPTION_CITY  FUELCONSUMPTION_HWY  \\\n",
       "0         2.0          4                   9.9                  6.7   \n",
       "1         2.4          4                  11.2                  7.7   \n",
       "2         1.5          4                   6.0                  5.8   \n",
       "3         3.5          6                  12.7                  9.1   \n",
       "4         3.5          6                  12.1                  8.7   \n",
       "\n",
       "   FUELCONSUMPTION_COMB  CO2EMISSIONS  \n",
       "0                   8.5           196  \n",
       "1                   9.6           221  \n",
       "2                   5.9           136  \n",
       "3                  11.1           255  \n",
       "4                  10.6           244  "
      ]
     },
     "execution_count": 3,
     "metadata": {},
     "output_type": "execute_result"
    }
   ],
   "source": [
    "data = df[['ENGINESIZE', 'CYLINDERS', 'FUELCONSUMPTION_CITY', 'FUELCONSUMPTION_HWY', 'FUELCONSUMPTION_COMB', 'CO2EMISSIONS']]\n",
    "data.head()"
   ]
  },
  {
   "cell_type": "code",
   "execution_count": 4,
   "id": "8e49a9d5",
   "metadata": {},
   "outputs": [],
   "source": [
    "# Get X, y\n",
    "X = data[['ENGINESIZE', 'CYLINDERS', 'FUELCONSUMPTION_COMB']].values\n",
    "y = data[['CO2EMISSIONS']].values"
   ]
  },
  {
   "cell_type": "code",
   "execution_count": 5,
   "id": "ae7519b1",
   "metadata": {},
   "outputs": [],
   "source": [
    "# Train test split\n",
    "from sklearn.model_selection import train_test_split\n",
    "X_train, X_test, y_train, y_test = train_test_split(X, y, test_size=0.2)"
   ]
  },
  {
   "cell_type": "code",
   "execution_count": 6,
   "id": "fb692e81",
   "metadata": {},
   "outputs": [
    {
     "data": {
      "text/plain": [
       "LinearRegression()"
      ]
     },
     "execution_count": 6,
     "metadata": {},
     "output_type": "execute_result"
    }
   ],
   "source": [
    "# Create model\n",
    "from sklearn.linear_model import LinearRegression\n",
    "mul_lin_regr_sk = LinearRegression()\n",
    "x_sk = np.asanyarray(X_train)\n",
    "y_sk = np.asanyarray(y_train)\n",
    "mul_lin_regr_sk.fit(x_sk, y_sk)"
   ]
  },
  {
   "cell_type": "code",
   "execution_count": 7,
   "id": "796dbd2d",
   "metadata": {},
   "outputs": [
    {
     "name": "stdout",
     "output_type": "stream",
     "text": [
      "w_sk = [[11.92110053  6.76247637  9.50375798]]\n",
      "b_sk = [66.53547997]\n"
     ]
    }
   ],
   "source": [
    "print('w_sk =', mul_lin_regr_sk.coef_)\n",
    "print('b_sk =', mul_lin_regr_sk.intercept_)"
   ]
  },
  {
   "cell_type": "code",
   "execution_count": 8,
   "id": "3c234fb0",
   "metadata": {
    "scrolled": true
   },
   "outputs": [
    {
     "name": "stdout",
     "output_type": "stream",
     "text": [
      "MSE (SK): 553.319\n"
     ]
    }
   ],
   "source": [
    "# Predict\n",
    "y_hat_sk = mul_lin_regr_sk.predict(X_test)\n",
    "print('MSE (SK): %.3f' % np.mean((y_hat_sk - y_test) ** 2))"
   ]
  },
  {
   "cell_type": "markdown",
   "id": "cd89f3e4",
   "metadata": {},
   "source": [
    "2. Manually build (using numpy only)"
   ]
  },
  {
   "cell_type": "code",
   "execution_count": 9,
   "id": "e04ac144",
   "metadata": {},
   "outputs": [],
   "source": [
    "X_train_mn = np.asanyarray(X_train)\n",
    "y_train_mn = np.asanyarray(y_train)"
   ]
  },
  {
   "cell_type": "code",
   "execution_count": 10,
   "id": "50c0f2c7",
   "metadata": {},
   "outputs": [
    {
     "name": "stdout",
     "output_type": "stream",
     "text": [
      "X_train's shape: [853, 3]\n",
      "y_train's shape: [853, 1]\n"
     ]
    }
   ],
   "source": [
    "print('X_train\\'s shape:', list(X_train_mn.shape))\n",
    "print('y_train\\'s shape:', list(y_train_mn.shape))"
   ]
  },
  {
   "cell_type": "code",
   "execution_count": 11,
   "id": "37d7d386",
   "metadata": {},
   "outputs": [],
   "source": [
    "# Create model\n",
    "def model(X, y, epsilon=1e-10, learning_rate=0.01, show_loss=False):\n",
    "    prev_loss = 0\n",
    "    epoch = 0\n",
    "    \n",
    "    X_shape = list(X.shape)\n",
    "    y_shape = list(y.shape)\n",
    "    m = X_shape[0]\n",
    "    \n",
    "    # Initialize weights and bias\n",
    "    w = np.random.randn(X_shape[1], 1) + 10\n",
    "    b = np.zeros((y_shape[1], 1))\n",
    "    \n",
    "    while(True):\n",
    "        # Hypothesis function\n",
    "        y_hat = np.dot(X, w) + b\n",
    "\n",
    "        # Cost function\n",
    "        loss = 1/2 * np.mean((y_hat - y) ** 2)\n",
    "\n",
    "        # Backpropagation\n",
    "        dW = 1/m * np.dot(np.transpose(X), (y_hat - y))\n",
    "        db = np.mean((y_hat - y))\n",
    "\n",
    "        # Use gradient descent for updating parameters\n",
    "        w -= learning_rate * dW\n",
    "        b -= learning_rate * db\n",
    "            \n",
    "        if show_loss:\n",
    "            if epoch % 1000 == 0:\n",
    "                print('Epoch:', epoch, end='; ')\n",
    "                print('Loss:', loss)\n",
    "                \n",
    "        # Exit when loss distance is lower than epsilon\n",
    "        if np.abs(prev_loss - loss) < epsilon and epoch >= 1: break\n",
    "        \n",
    "        prev_loss = loss\n",
    "        epoch += 1\n",
    "        \n",
    "    return w.T, b"
   ]
  },
  {
   "cell_type": "code",
   "execution_count": 12,
   "id": "d751f611",
   "metadata": {},
   "outputs": [],
   "source": [
    "w_mn, b_mn = model(X_train_mn, y_train_mn)"
   ]
  },
  {
   "cell_type": "code",
   "execution_count": 13,
   "id": "3e7914eb",
   "metadata": {},
   "outputs": [
    {
     "name": "stdout",
     "output_type": "stream",
     "text": [
      "w_mn = [[11.9203558   6.76302363  9.50387177]]\n",
      "b_mn = [[66.53340086]]\n"
     ]
    }
   ],
   "source": [
    "print('w_mn =', w_mn)\n",
    "print('b_mn =', b_mn)"
   ]
  },
  {
   "cell_type": "code",
   "execution_count": 14,
   "id": "fab215ae",
   "metadata": {},
   "outputs": [
    {
     "name": "stdout",
     "output_type": "stream",
     "text": [
      "w diff = [[ 0.00074473 -0.00054726 -0.0001138 ]]\n",
      "b diff = [[0.00207911]]\n"
     ]
    }
   ],
   "source": [
    "print('w diff =', mul_lin_regr_sk.coef_ - w_mn)\n",
    "print('b diff =', mul_lin_regr_sk.intercept_ - b_mn)"
   ]
  },
  {
   "cell_type": "code",
   "execution_count": 15,
   "id": "7d601e2c",
   "metadata": {},
   "outputs": [],
   "source": [
    "# Predict\n",
    "def predict(X, w, b):\n",
    "    return np.dot(X, w.T) + b"
   ]
  },
  {
   "cell_type": "code",
   "execution_count": 16,
   "id": "cd2e5a62",
   "metadata": {},
   "outputs": [
    {
     "name": "stdout",
     "output_type": "stream",
     "text": [
      "MSE (MN): 553.317\n"
     ]
    }
   ],
   "source": [
    "y_hat_mn = predict(X_test, w_mn, b_mn)\n",
    "print('MSE (MN): %.3f' % np.mean((y_hat_mn - y_test) ** 2))"
   ]
  },
  {
   "cell_type": "markdown",
   "id": "aa0a26c8",
   "metadata": {},
   "source": [
    "Bonus: build a linear regression model using PyTorch library"
   ]
  },
  {
   "cell_type": "code",
   "execution_count": 17,
   "id": "3f6883b8",
   "metadata": {},
   "outputs": [],
   "source": [
    "# Import library\n",
    "import torch\n",
    "import torch.nn as nn"
   ]
  },
  {
   "cell_type": "code",
   "execution_count": 18,
   "id": "4cfab255",
   "metadata": {},
   "outputs": [],
   "source": [
    "# Convert data to tensors\n",
    "X_train_pt = torch.from_numpy(X_train.astype(np.float32))\n",
    "y_train_pt = torch.from_numpy(y_train.astype(np.float32))\n",
    "X_test_pt = torch.from_numpy(X_test.astype(np.float32))\n",
    "y_test_pt = torch.from_numpy(y_test.astype(np.float32))"
   ]
  },
  {
   "cell_type": "code",
   "execution_count": 19,
   "id": "44d40e2c",
   "metadata": {},
   "outputs": [
    {
     "name": "stdout",
     "output_type": "stream",
     "text": [
      "X_train's shape: [853, 3]\n",
      "y_train's shape: [853, 1]\n"
     ]
    }
   ],
   "source": [
    "print('X_train\\'s shape:', list(X_train_pt.shape))\n",
    "print('y_train\\'s shape:', list(y_train_pt.shape))"
   ]
  },
  {
   "cell_type": "code",
   "execution_count": 20,
   "id": "c4eb0046",
   "metadata": {},
   "outputs": [],
   "source": [
    "# Create model\n",
    "def pt_model(X, y, epsilon=0.001, learning_rate=0.005, show_loss=False):\n",
    "    prev_loss = 0\n",
    "    epoch = 0\n",
    "    \n",
    "    X_shape = list(X.shape)\n",
    "    \n",
    "    # Initialize linear model\n",
    "    input_size = X_shape[1]\n",
    "    output_size = 1\n",
    "    lin_regr = nn.Linear(input_size, output_size)\n",
    "    \n",
    "    # Define loss function and optimizer\n",
    "    loss_func = nn.MSELoss()\n",
    "    optimizer = torch.optim.SGD(lin_regr.parameters(), lr=learning_rate)\n",
    "    \n",
    "    # Iterating\n",
    "    while True:\n",
    "        # Forward pass\n",
    "        y_hat = lin_regr(X)\n",
    "        \n",
    "        # Loss function\n",
    "        loss = loss_func(y_hat, y)\n",
    "        \n",
    "        # Backward pass\n",
    "        loss.backward()\n",
    "        \n",
    "        # Update parameters\n",
    "        optimizer.step()\n",
    "        optimizer.zero_grad()\n",
    "        \n",
    "        # Show loss\n",
    "        if show_loss and (epoch+1) % 100 == 0:\n",
    "            print('Epoch:', epoch+1, end='; ')\n",
    "            print('Loss: %.3f' % loss.item())\n",
    "            \n",
    "        # Exit when loss gap is below the epsilon\n",
    "        if torch.abs(prev_loss - loss) < epsilon and epoch >= 1: break\n",
    "        \n",
    "        prev_loss = loss\n",
    "        epoch += 1\n",
    "        \n",
    "    w, b = lin_regr.parameters()\n",
    "    w = w.detach()\n",
    "    b = b.detach()\n",
    "    return w, b"
   ]
  },
  {
   "cell_type": "code",
   "execution_count": 21,
   "id": "9349561e",
   "metadata": {
    "scrolled": true
   },
   "outputs": [],
   "source": [
    "w_pt, b_pt = pt_model(X_train_pt, y_train_pt)"
   ]
  },
  {
   "cell_type": "code",
   "execution_count": 22,
   "id": "434b1aa7",
   "metadata": {},
   "outputs": [
    {
     "name": "stdout",
     "output_type": "stream",
     "text": [
      "w_pt = tensor([[10.1562,  8.0594,  9.7734]])\n",
      "b_pt = tensor([61.6083])\n"
     ]
    }
   ],
   "source": [
    "print('w_pt =', w_pt)\n",
    "print('b_pt =', b_pt)"
   ]
  },
  {
   "cell_type": "code",
   "execution_count": 23,
   "id": "a41a6c24",
   "metadata": {},
   "outputs": [],
   "source": [
    "# Predict\n",
    "def pt_predict(X, w, b):\n",
    "    return torch.matmul(X, w.t()) + b"
   ]
  },
  {
   "cell_type": "code",
   "execution_count": 24,
   "id": "832ea4ed",
   "metadata": {},
   "outputs": [
    {
     "name": "stdout",
     "output_type": "stream",
     "text": [
      "MSE (PT): 550.324\n"
     ]
    }
   ],
   "source": [
    "y_hat_pt = pt_predict(X_test_pt, w_pt, b_pt)\n",
    "print('MSE (PT): %.3f' % ((y_hat_pt - y_test_pt) ** 2).mean())"
   ]
  },
  {
   "cell_type": "code",
   "execution_count": null,
   "id": "bed78f6c",
   "metadata": {},
   "outputs": [],
   "source": []
  }
 ],
 "metadata": {
  "kernelspec": {
   "display_name": "Python 3",
   "language": "python",
   "name": "python3"
  },
  "language_info": {
   "codemirror_mode": {
    "name": "ipython",
    "version": 3
   },
   "file_extension": ".py",
   "mimetype": "text/x-python",
   "name": "python",
   "nbconvert_exporter": "python",
   "pygments_lexer": "ipython3",
   "version": "3.8.7"
  }
 },
 "nbformat": 4,
 "nbformat_minor": 5
}
